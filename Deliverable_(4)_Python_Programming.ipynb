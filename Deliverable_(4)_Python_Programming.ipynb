{
  "nbformat": 4,
  "nbformat_minor": 0,
  "metadata": {
    "colab": {
      "provenance": []
    },
    "kernelspec": {
      "name": "python3",
      "display_name": "Python 3"
    },
    "language_info": {
      "name": "python"
    }
  },
  "cells": [
    {
      "cell_type": "code",
      "execution_count": 179,
      "metadata": {
        "id": "aEwKNuB4TUlY"
      },
      "outputs": [],
      "source": [
        "import random"
      ]
    },
    {
      "cell_type": "code",
      "source": [
        "def populate_list(length):\n",
        "   return [random.randint(10, 50) for i in range(length)]"
      ],
      "metadata": {
        "id": "fl79rEqDTW1W"
      },
      "execution_count": 185,
      "outputs": []
    },
    {
      "cell_type": "code",
      "source": [
        "def sum_list(lst):\n",
        "    return sum(lst)"
      ],
      "metadata": {
        "id": "o56eMqxPbZft"
      },
      "execution_count": 186,
      "outputs": []
    },
    {
      "cell_type": "code",
      "source": [
        "#1 Ask the user to enter an integer number between 5 and 15.\n",
        "\n",
        "while True:\n",
        "    user_entry = int(input(\"Enter an integer between 5 and 15: \"))\n",
        "    if user_entry >= 5 and user_entry <= 15:\n",
        "        break"
      ],
      "metadata": {
        "colab": {
          "base_uri": "https://localhost:8080/"
        },
        "id": "b0n_mtJxba6m",
        "outputId": "5c50ef5f-0fd9-4877-d387-cb25ba4e8350"
      },
      "execution_count": 187,
      "outputs": [
        {
          "name": "stdout",
          "output_type": "stream",
          "text": [
            "Enter an integer between 5 and 15: 15\n"
          ]
        }
      ]
    },
    {
      "cell_type": "code",
      "source": [
        "lst = populate_list(user_entry)\n",
        "print(\"The elements of the array are:\", \" \".join(str(i) for i in lst))"
      ],
      "metadata": {
        "colab": {
          "base_uri": "https://localhost:8080/"
        },
        "id": "uDH70rQZgDDs",
        "outputId": "4d3d83ad-8c71-4bb7-9f5d-32fd0aa20d49"
      },
      "execution_count": 190,
      "outputs": [
        {
          "output_type": "stream",
          "name": "stdout",
          "text": [
            "The elements of the array are: 24 25 45 14 14 11 29 31 13 14 10 35 22 34 15\n"
          ]
        }
      ]
    },
    {
      "cell_type": "code",
      "source": [
        "total_sum = sum_list(lst)\n",
        "print(\"The sum is:\", total_sum)"
      ],
      "metadata": {
        "colab": {
          "base_uri": "https://localhost:8080/"
        },
        "id": "RZ89pSoXdAf8",
        "outputId": "6b0c77ac-5a6c-41fc-8561-d7f0dd95e050"
      },
      "execution_count": 191,
      "outputs": [
        {
          "output_type": "stream",
          "name": "stdout",
          "text": [
            "The sum is: 336\n"
          ]
        }
      ]
    }
  ]
}